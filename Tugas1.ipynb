{
 "cells": [
  {
   "cell_type": "code",
   "execution_count": 1,
   "metadata": {},
   "outputs": [
    {
     "data": {
      "text/html": [
       "<style  type=\"text/css\" >\n",
       "</style><table id=\"T_9542c9a2_cf32_11e9_a8d0_b0fc3661437a\" ><thead>    <tr>        <th class=\"col_heading level0 col0\" >stats</th>        <th class=\"col_heading level0 col1\" >data 1</th>        <th class=\"col_heading level0 col2\" >data 2</th>        <th class=\"col_heading level0 col3\" >data 3</th>        <th class=\"col_heading level0 col4\" >data 4</th>    </tr></thead><tbody>\n",
       "                <tr>\n",
       "                                <td id=\"T_9542c9a2_cf32_11e9_a8d0_b0fc3661437arow0_col0\" class=\"data row0 col0\" >Min</td>\n",
       "                        <td id=\"T_9542c9a2_cf32_11e9_a8d0_b0fc3661437arow0_col1\" class=\"data row0 col1\" >81</td>\n",
       "                        <td id=\"T_9542c9a2_cf32_11e9_a8d0_b0fc3661437arow0_col2\" class=\"data row0 col2\" >81</td>\n",
       "                        <td id=\"T_9542c9a2_cf32_11e9_a8d0_b0fc3661437arow0_col3\" class=\"data row0 col3\" >80</td>\n",
       "                        <td id=\"T_9542c9a2_cf32_11e9_a8d0_b0fc3661437arow0_col4\" class=\"data row0 col4\" >80</td>\n",
       "            </tr>\n",
       "            <tr>\n",
       "                                <td id=\"T_9542c9a2_cf32_11e9_a8d0_b0fc3661437arow1_col0\" class=\"data row1 col0\" >Max</td>\n",
       "                        <td id=\"T_9542c9a2_cf32_11e9_a8d0_b0fc3661437arow1_col1\" class=\"data row1 col1\" >160</td>\n",
       "                        <td id=\"T_9542c9a2_cf32_11e9_a8d0_b0fc3661437arow1_col2\" class=\"data row1 col2\" >160</td>\n",
       "                        <td id=\"T_9542c9a2_cf32_11e9_a8d0_b0fc3661437arow1_col3\" class=\"data row1 col3\" >160</td>\n",
       "                        <td id=\"T_9542c9a2_cf32_11e9_a8d0_b0fc3661437arow1_col4\" class=\"data row1 col4\" >160</td>\n",
       "            </tr>\n",
       "            <tr>\n",
       "                                <td id=\"T_9542c9a2_cf32_11e9_a8d0_b0fc3661437arow2_col0\" class=\"data row2 col0\" >Mean</td>\n",
       "                        <td id=\"T_9542c9a2_cf32_11e9_a8d0_b0fc3661437arow2_col1\" class=\"data row2 col1\" >120.26</td>\n",
       "                        <td id=\"T_9542c9a2_cf32_11e9_a8d0_b0fc3661437arow2_col2\" class=\"data row2 col2\" >124.67</td>\n",
       "                        <td id=\"T_9542c9a2_cf32_11e9_a8d0_b0fc3661437arow2_col3\" class=\"data row2 col3\" >122</td>\n",
       "                        <td id=\"T_9542c9a2_cf32_11e9_a8d0_b0fc3661437arow2_col4\" class=\"data row2 col4\" >118.02</td>\n",
       "            </tr>\n",
       "            <tr>\n",
       "                                <td id=\"T_9542c9a2_cf32_11e9_a8d0_b0fc3661437arow3_col0\" class=\"data row3 col0\" >Standard Deviasi</td>\n",
       "                        <td id=\"T_9542c9a2_cf32_11e9_a8d0_b0fc3661437arow3_col1\" class=\"data row3 col1\" >24.78</td>\n",
       "                        <td id=\"T_9542c9a2_cf32_11e9_a8d0_b0fc3661437arow3_col2\" class=\"data row3 col2\" >22.47</td>\n",
       "                        <td id=\"T_9542c9a2_cf32_11e9_a8d0_b0fc3661437arow3_col3\" class=\"data row3 col3\" >24.55</td>\n",
       "                        <td id=\"T_9542c9a2_cf32_11e9_a8d0_b0fc3661437arow3_col4\" class=\"data row3 col4\" >22.67</td>\n",
       "            </tr>\n",
       "            <tr>\n",
       "                                <td id=\"T_9542c9a2_cf32_11e9_a8d0_b0fc3661437arow4_col0\" class=\"data row4 col0\" >Variasi</td>\n",
       "                        <td id=\"T_9542c9a2_cf32_11e9_a8d0_b0fc3661437arow4_col1\" class=\"data row4 col1\" >613.89</td>\n",
       "                        <td id=\"T_9542c9a2_cf32_11e9_a8d0_b0fc3661437arow4_col2\" class=\"data row4 col2\" >504.89</td>\n",
       "                        <td id=\"T_9542c9a2_cf32_11e9_a8d0_b0fc3661437arow4_col3\" class=\"data row4 col3\" >602.57</td>\n",
       "                        <td id=\"T_9542c9a2_cf32_11e9_a8d0_b0fc3661437arow4_col4\" class=\"data row4 col4\" >513.72</td>\n",
       "            </tr>\n",
       "            <tr>\n",
       "                                <td id=\"T_9542c9a2_cf32_11e9_a8d0_b0fc3661437arow5_col0\" class=\"data row5 col0\" >Skewnes</td>\n",
       "                        <td id=\"T_9542c9a2_cf32_11e9_a8d0_b0fc3661437arow5_col1\" class=\"data row5 col1\" >0.11</td>\n",
       "                        <td id=\"T_9542c9a2_cf32_11e9_a8d0_b0fc3661437arow5_col2\" class=\"data row5 col2\" >-0.22</td>\n",
       "                        <td id=\"T_9542c9a2_cf32_11e9_a8d0_b0fc3661437arow5_col3\" class=\"data row5 col3\" >-0.07</td>\n",
       "                        <td id=\"T_9542c9a2_cf32_11e9_a8d0_b0fc3661437arow5_col4\" class=\"data row5 col4\" >0.12</td>\n",
       "            </tr>\n",
       "            <tr>\n",
       "                                <td id=\"T_9542c9a2_cf32_11e9_a8d0_b0fc3661437arow6_col0\" class=\"data row6 col0\" >Quantile 1</td>\n",
       "                        <td id=\"T_9542c9a2_cf32_11e9_a8d0_b0fc3661437arow6_col1\" class=\"data row6 col1\" >97</td>\n",
       "                        <td id=\"T_9542c9a2_cf32_11e9_a8d0_b0fc3661437arow6_col2\" class=\"data row6 col2\" >106.75</td>\n",
       "                        <td id=\"T_9542c9a2_cf32_11e9_a8d0_b0fc3661437arow6_col3\" class=\"data row6 col3\" >101.75</td>\n",
       "                        <td id=\"T_9542c9a2_cf32_11e9_a8d0_b0fc3661437arow6_col4\" class=\"data row6 col4\" >99.5</td>\n",
       "            </tr>\n",
       "            <tr>\n",
       "                                <td id=\"T_9542c9a2_cf32_11e9_a8d0_b0fc3661437arow7_col0\" class=\"data row7 col0\" >Quantile 2</td>\n",
       "                        <td id=\"T_9542c9a2_cf32_11e9_a8d0_b0fc3661437arow7_col1\" class=\"data row7 col1\" >117.5</td>\n",
       "                        <td id=\"T_9542c9a2_cf32_11e9_a8d0_b0fc3661437arow7_col2\" class=\"data row7 col2\" >126.5</td>\n",
       "                        <td id=\"T_9542c9a2_cf32_11e9_a8d0_b0fc3661437arow7_col3\" class=\"data row7 col3\" >123.5</td>\n",
       "                        <td id=\"T_9542c9a2_cf32_11e9_a8d0_b0fc3661437arow7_col4\" class=\"data row7 col4\" >118</td>\n",
       "            </tr>\n",
       "            <tr>\n",
       "                                <td id=\"T_9542c9a2_cf32_11e9_a8d0_b0fc3661437arow8_col0\" class=\"data row8 col0\" >Quantile 3</td>\n",
       "                        <td id=\"T_9542c9a2_cf32_11e9_a8d0_b0fc3661437arow8_col1\" class=\"data row8 col1\" >143.25</td>\n",
       "                        <td id=\"T_9542c9a2_cf32_11e9_a8d0_b0fc3661437arow8_col2\" class=\"data row8 col2\" >143.25</td>\n",
       "                        <td id=\"T_9542c9a2_cf32_11e9_a8d0_b0fc3661437arow8_col3\" class=\"data row8 col3\" >144</td>\n",
       "                        <td id=\"T_9542c9a2_cf32_11e9_a8d0_b0fc3661437arow8_col4\" class=\"data row8 col4\" >137.25</td>\n",
       "            </tr>\n",
       "            <tr>\n",
       "                                <td id=\"T_9542c9a2_cf32_11e9_a8d0_b0fc3661437arow9_col0\" class=\"data row9 col0\" >Median</td>\n",
       "                        <td id=\"T_9542c9a2_cf32_11e9_a8d0_b0fc3661437arow9_col1\" class=\"data row9 col1\" >117.5</td>\n",
       "                        <td id=\"T_9542c9a2_cf32_11e9_a8d0_b0fc3661437arow9_col2\" class=\"data row9 col2\" >126.5</td>\n",
       "                        <td id=\"T_9542c9a2_cf32_11e9_a8d0_b0fc3661437arow9_col3\" class=\"data row9 col3\" >123.5</td>\n",
       "                        <td id=\"T_9542c9a2_cf32_11e9_a8d0_b0fc3661437arow9_col4\" class=\"data row9 col4\" >118</td>\n",
       "            </tr>\n",
       "            <tr>\n",
       "                                <td id=\"T_9542c9a2_cf32_11e9_a8d0_b0fc3661437arow10_col0\" class=\"data row10 col0\" >Modus</td>\n",
       "                        <td id=\"T_9542c9a2_cf32_11e9_a8d0_b0fc3661437arow10_col1\" class=\"data row10 col1\" >84</td>\n",
       "                        <td id=\"T_9542c9a2_cf32_11e9_a8d0_b0fc3661437arow10_col2\" class=\"data row10 col2\" >131</td>\n",
       "                        <td id=\"T_9542c9a2_cf32_11e9_a8d0_b0fc3661437arow10_col3\" class=\"data row10 col3\" >89</td>\n",
       "                        <td id=\"T_9542c9a2_cf32_11e9_a8d0_b0fc3661437arow10_col4\" class=\"data row10 col4\" >124</td>\n",
       "            </tr>\n",
       "    </tbody></table>"
      ],
      "text/plain": [
       "<pandas.io.formats.style.Styler at 0x218b5fa43c8>"
      ]
     },
     "execution_count": 1,
     "metadata": {},
     "output_type": "execute_result"
    }
   ],
   "source": [
    "import pandas as pd\n",
    "from scipy import stats\n",
    "df = pd.read_csv('Data.csv',sep=';')\n",
    "data = {\"stats\": ['Min','Max','Mean','Standard Deviasi','Variasi','Skewnes','Quantile 1','Quantile 2',\n",
    "                  'Quantile 3','Median','Modus']}\n",
    "for i in df.columns:\n",
    "    data[i] = [df[i].min(), df[i].max(), df[i].mean(), round(df[i].std(),2), round(df[i].var(),2),\n",
    "               round(df[i].skew(),2), df[i].quantile(0.25),df[i].quantile(0.5),df[i].quantile(0.75), \n",
    "               df[i].median(), stats.mode(df[i]).mode[0]]\n",
    "tes = pd.DataFrame(data)\n",
    "tes.style.hide_index()"
   ]
  },
  {
   "cell_type": "code",
   "execution_count": null,
   "metadata": {},
   "outputs": [],
   "source": []
  }
 ],
 "metadata": {
  "kernelspec": {
   "display_name": "Python 3",
   "language": "python",
   "name": "python3"
  },
  "language_info": {
   "codemirror_mode": {
    "name": "ipython",
    "version": 3
   },
   "file_extension": ".py",
   "mimetype": "text/x-python",
   "name": "python",
   "nbconvert_exporter": "python",
   "pygments_lexer": "ipython3",
   "version": "3.7.3"
  }
 },
 "nbformat": 4,
 "nbformat_minor": 2
}
